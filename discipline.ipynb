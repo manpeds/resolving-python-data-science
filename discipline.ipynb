{
 "cells": [
  {
   "cell_type": "markdown",
   "id": "ecca1d36-52fb-49e3-8493-9dc6ed75ae77",
   "metadata": {},
   "source": [
    "# Discipline"
   ]
  },
  {
   "cell_type": "code",
   "execution_count": null,
   "id": "7df858e3-a45c-468a-98aa-4fa295c6088e",
   "metadata": {},
   "outputs": [],
   "source": [
    "1. tengo un problema houston\n",
    "2. identifico cual es el problema\n",
    "3. encabezado de la tabla\n",
    "4. como muestro el encabezado de la tabla?\n",
    "5. sabemos qaue cada vez que quiero hacer algo en programacion, que necesitas...\n",
    "6. necesito una funcion que me haga 5)\n",
    "    7. si no la se busco en internet (**DISCIPLINA MECANICA**)\n",
    "8. disciplina intuitiva\n",
    "    - yo se que la funciones estan en...\n",
    "        1. objeto\n",
    "        2. libreria\n",
    "        3. predefinida en python"
   ]
  }
 ],
 "metadata": {
  "kernelspec": {
   "display_name": "Python 3 (ipykernel)",
   "language": "python",
   "name": "python3"
  },
  "language_info": {
   "codemirror_mode": {
    "name": "ipython",
    "version": 3
   },
   "file_extension": ".py",
   "mimetype": "text/x-python",
   "name": "python",
   "nbconvert_exporter": "python",
   "pygments_lexer": "ipython3",
   "version": "3.9.7"
  }
 },
 "nbformat": 4,
 "nbformat_minor": 5
}
